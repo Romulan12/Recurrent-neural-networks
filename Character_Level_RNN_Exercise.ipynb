{
  "nbformat": 4,
  "nbformat_minor": 0,
  "metadata": {
    "kernelspec": {
      "name": "python3",
      "display_name": "Python 3"
    },
    "language_info": {
      "codemirror_mode": {
        "name": "ipython",
        "version": 3
      },
      "file_extension": ".py",
      "mimetype": "text/x-python",
      "name": "python",
      "nbconvert_exporter": "python",
      "pygments_lexer": "ipython3",
      "version": "3.6.4"
    },
    "colab": {
      "name": "Character_Level_RNN_Exercise.ipynb",
      "provenance": [],
      "include_colab_link": true
    },
    "accelerator": "GPU"
  },
  "cells": [
    {
      "cell_type": "markdown",
      "metadata": {
        "id": "view-in-github",
        "colab_type": "text"
      },
      "source": [
        "<a href=\"https://colab.research.google.com/github/Romulan12/Recurrent-neural-networks-/blob/master/Character_Level_RNN_Exercise.ipynb\" target=\"_parent\"><img src=\"https://colab.research.google.com/assets/colab-badge.svg\" alt=\"Open In Colab\"/></a>"
      ]
    },
    {
      "cell_type": "markdown",
      "metadata": {
        "id": "LV3WAY-Z1pcS",
        "colab_type": "text"
      },
      "source": [
        "# Character-Level LSTM in PyTorch\n",
        "\n",
        "In this notebook, I'll construct a character-level LSTM with PyTorch. The network will train character by character on some text, then generate new text character by character. As an example, I will train on Anna Karenina. **This model will be able to generate new text based on the text from the book!**\n",
        "\n",
        "This network is based off of Andrej Karpathy's [post on RNNs](http://karpathy.github.io/2015/05/21/rnn-effectiveness/) and [implementation in Torch](https://github.com/karpathy/char-rnn). Below is the general architecture of the character-wise RNN.\n",
        "\n",
        "<img src=\"assets/charseq.jpeg\" width=\"500\">"
      ]
    },
    {
      "cell_type": "markdown",
      "metadata": {
        "id": "lv-3sleE1pcV",
        "colab_type": "text"
      },
      "source": [
        "First let's load in our required resources for data loading and model creation."
      ]
    },
    {
      "cell_type": "markdown",
      "metadata": {
        "id": "4AD-RHMCuE-0",
        "colab_type": "text"
      },
      "source": [
        "https://github.com/udacity/deep-learning-v2-pytorch/blob/master/recurrent-neural-networks/char-rnn/Character_Level_RNN_Solution.ipynb   \n"
      ]
    },
    {
      "cell_type": "code",
      "metadata": {
        "id": "Iy7H2BhW1pcW",
        "colab_type": "code",
        "colab": {}
      },
      "source": [
        "import numpy as np\n",
        "import torch\n",
        "from torch import nn\n",
        "import torch.nn.functional as F"
      ],
      "execution_count": 0,
      "outputs": []
    },
    {
      "cell_type": "markdown",
      "metadata": {
        "id": "n34DLC6J1pcb",
        "colab_type": "text"
      },
      "source": [
        "## Load in Data\n",
        "\n",
        "Then, we'll load the Anna Karenina text file and convert it into integers for our network to use. "
      ]
    },
    {
      "cell_type": "code",
      "metadata": {
        "id": "RGskkzOb1pcc",
        "colab_type": "code",
        "colab": {}
      },
      "source": [
        "# open text file and read in data as `text`\n",
        "with open('/content/anna.txt', 'r') as f:\n",
        "    text = f.read()"
      ],
      "execution_count": 0,
      "outputs": []
    },
    {
      "cell_type": "markdown",
      "metadata": {
        "id": "lHz7F-zA1pch",
        "colab_type": "text"
      },
      "source": [
        "Let's check out the first 100 characters, make sure everything is peachy. According to the [American Book Review](http://americanbookreview.org/100bestlines.asp), this is the 6th best first line of a book ever."
      ]
    },
    {
      "cell_type": "code",
      "metadata": {
        "id": "Wkn3ayOD1pci",
        "colab_type": "code",
        "colab": {
          "base_uri": "https://localhost:8080/",
          "height": 54
        },
        "outputId": "bf5637e8-a572-4e69-9a68-ee90f1821aca"
      },
      "source": [
        "text[:100]"
      ],
      "execution_count": 62,
      "outputs": [
        {
          "output_type": "execute_result",
          "data": {
            "text/plain": [
              "'Chapter 1\\n\\n\\nHappy families are all alike; every unhappy family is unhappy in its own\\nway.\\n\\nEverythin'"
            ]
          },
          "metadata": {
            "tags": []
          },
          "execution_count": 62
        }
      ]
    },
    {
      "cell_type": "markdown",
      "metadata": {
        "id": "kvFTz42o1pcn",
        "colab_type": "text"
      },
      "source": [
        "### Tokenization\n",
        "\n",
        "In the cells, below, I'm creating a couple **dictionaries** to convert the characters to and from integers. Encoding the characters as integers makes it easier to use as input in the network."
      ]
    },
    {
      "cell_type": "code",
      "metadata": {
        "id": "lO9aMWFZ1pco",
        "colab_type": "code",
        "colab": {}
      },
      "source": [
        "# encode the text and map each character to an integer and vice versa\n",
        "\n",
        "# we create two dictionaries:\n",
        "# 1. int2char, which maps integers to characters\n",
        "# 2. char2int, which maps characters to unique integers\n",
        "chars = tuple(set(text))\n",
        "int2char = dict(enumerate(chars))\n",
        "char2int = {ch: ii for ii, ch in int2char.items()}\n",
        "\n",
        "# encode the text\n",
        "encoded = np.array([char2int[ch] for ch in text])"
      ],
      "execution_count": 0,
      "outputs": []
    },
    {
      "cell_type": "markdown",
      "metadata": {
        "id": "4WUxMcxs1pcs",
        "colab_type": "text"
      },
      "source": [
        "And we can see those same characters from above, encoded as integers."
      ]
    },
    {
      "cell_type": "code",
      "metadata": {
        "id": "U4_Lo2O_1pct",
        "colab_type": "code",
        "colab": {
          "base_uri": "https://localhost:8080/",
          "height": 118
        },
        "outputId": "17f0b444-8971-4256-8943-03604d5424b3"
      },
      "source": [
        "encoded[:100]"
      ],
      "execution_count": 64,
      "outputs": [
        {
          "output_type": "execute_result",
          "data": {
            "text/plain": [
              "array([72, 19, 45, 73, 68, 27, 34, 18, 59,  3,  3,  3, 33, 45, 73, 73, 76,\n",
              "       18, 77, 45, 43,  0, 58,  0, 27, 42, 18, 45, 34, 27, 18, 45, 58, 58,\n",
              "       18, 45, 58,  0, 31, 27, 29, 18, 27, 62, 27, 34, 76, 18, 81, 63, 19,\n",
              "       45, 73, 73, 76, 18, 77, 45, 43,  0, 58, 76, 18,  0, 42, 18, 81, 63,\n",
              "       19, 45, 73, 73, 76, 18,  0, 63, 18,  0, 68, 42, 18, 15, 57, 63,  3,\n",
              "       57, 45, 76, 82,  3,  3, 66, 62, 27, 34, 76, 68, 19,  0, 63])"
            ]
          },
          "metadata": {
            "tags": []
          },
          "execution_count": 64
        }
      ]
    },
    {
      "cell_type": "markdown",
      "metadata": {
        "id": "koccxayb1pcy",
        "colab_type": "text"
      },
      "source": [
        "## Pre-processing the data\n",
        "\n",
        "As you can see in our char-RNN image above, our LSTM expects an input that is **one-hot encoded** meaning that each character is converted into an integer (via our created dictionary) and *then* converted into a column vector where only it's corresponding integer index will have the value of 1 and the rest of the vector will be filled with 0's. Since we're one-hot encoding the data, let's make a function to do that!\n"
      ]
    },
    {
      "cell_type": "code",
      "metadata": {
        "id": "YTZxOjUY1pcz",
        "colab_type": "code",
        "colab": {}
      },
      "source": [
        "def one_hot_encode(arr, n_labels):\n",
        "    \n",
        "    # Initialize the the encoded array\n",
        "    one_hot = np.zeros((arr.size, n_labels), dtype=np.float32)\n",
        "    \n",
        "    # Fill the appropriate elements with ones\n",
        "    one_hot[np.arange(one_hot.shape[0]), arr.flatten()] = 1.\n",
        "    \n",
        "    # Finally reshape it to get back to the original array\n",
        "    one_hot = one_hot.reshape((*arr.shape, n_labels))\n",
        "    \n",
        "    return one_hot"
      ],
      "execution_count": 0,
      "outputs": []
    },
    {
      "cell_type": "code",
      "metadata": {
        "id": "3ZrnEc-b1pc2",
        "colab_type": "code",
        "colab": {
          "base_uri": "https://localhost:8080/",
          "height": 67
        },
        "outputId": "2679c975-80ef-452c-d8e4-6d9b1981c9bb"
      },
      "source": [
        "# check that the function works as expected\n",
        "test_seq = np.array([[3, 5, 1]])\n",
        "one_hot = one_hot_encode(test_seq, 8)\n",
        "\n",
        "print(one_hot)"
      ],
      "execution_count": 66,
      "outputs": [
        {
          "output_type": "stream",
          "text": [
            "[[[0. 0. 0. 1. 0. 0. 0. 0.]\n",
            "  [0. 0. 0. 0. 0. 1. 0. 0.]\n",
            "  [0. 1. 0. 0. 0. 0. 0. 0.]]]\n"
          ],
          "name": "stdout"
        }
      ]
    },
    {
      "cell_type": "markdown",
      "metadata": {
        "id": "kjUHlDKL1pc6",
        "colab_type": "text"
      },
      "source": [
        "## Making training mini-batches\n",
        "\n",
        "\n",
        "To train on this data, we also want to create mini-batches for training. Remember that we want our batches to be multiple sequences of some desired number of sequence steps. Considering a simple example, our batches would look like this:\n",
        "\n",
        "<img src=\"assets/sequence_batching@1x.png\" width=500px>\n",
        "\n",
        "\n",
        "<br>\n",
        "\n",
        "In this example, we'll take the encoded characters (passed in as the `arr` parameter) and split them into multiple sequences, given by `batch_size`. Each of our sequences will be `seq_length` long.\n",
        "\n",
        "### Creating Batches\n",
        "\n",
        "**1. The first thing we need to do is discard some of the text so we only have completely full mini-batches. **\n",
        "\n",
        "Each batch contains $N \\times M$ characters, where $N$ is the batch size (the number of sequences in a batch) and $M$ is the seq_length or number of time steps in a sequence. Then, to get the total number of batches, $K$, that we can make from the array `arr`, you divide the length of `arr` by the number of characters per batch. Once you know the number of batches, you can get the total number of characters to keep from `arr`, $N * M * K$.\n",
        "\n",
        "**2. After that, we need to split `arr` into $N$ batches. ** \n",
        "\n",
        "You can do this using `arr.reshape(size)` where `size` is a tuple containing the dimensions sizes of the reshaped array. We know we want $N$ sequences in a batch, so let's make that the size of the first dimension. For the second dimension, you can use `-1` as a placeholder in the size, it'll fill up the array with the appropriate data for you. After this, you should have an array that is $N \\times (M * K)$.\n",
        "\n",
        "**3. Now that we have this array, we can iterate through it to get our mini-batches. **\n",
        "\n",
        "The idea is each batch is a $N \\times M$ window on the $N \\times (M * K)$ array. For each subsequent batch, the window moves over by `seq_length`. We also want to create both the input and target arrays. Remember that the targets are just the inputs shifted over by one character. The way I like to do this window is use `range` to take steps of size `n_steps` from $0$ to `arr.shape[1]`, the total number of tokens in each sequence. That way, the integers you get from `range` always point to the start of a batch, and each window is `seq_length` wide.\n",
        "\n",
        "> **TODO:** Write the code for creating batches in the function below. The exercises in this notebook _will not be easy_. I've provided a notebook with solutions alongside this notebook. If you get stuck, checkout the solutions. The most important thing is that you don't copy and paste the code into here, **type out the solution code yourself.**"
      ]
    },
    {
      "cell_type": "code",
      "metadata": {
        "id": "kGzeXd_61pc7",
        "colab_type": "code",
        "colab": {}
      },
      "source": [
        "def get_batches(arr, batch_size, seq_length):\n",
        "    '''Create a generator that returns batches of size\n",
        "       batch_size x seq_length from arr.\n",
        "       \n",
        "       Arguments\n",
        "       ---------\n",
        "       arr: Array you want to make batches from\n",
        "       batch_size: Batch size, the number of sequences per batch\n",
        "       seq_length: Number of encoded chars in a sequence\n",
        "    '''\n",
        "    \n",
        "    ## TODO: Get the number of batches we can make\n",
        "\n",
        "    n_batches = len(arr)//(batch_size*seq_length)\n",
        "    \n",
        "    ## TODO: Keep only enough characters to make full batches\n",
        "    arr = arr [ :n_batches * batch_size * seq_length]    \n",
        "    ## TODO: Reshape into batch_size rows\n",
        "    arr = arr.reshape((batch_size, -1))\n",
        "    \n",
        "    ## TODO: Iterate over the batches using a window of size seq_length\n",
        "    for n in range(0, arr.shape[1], seq_length):\n",
        "        # The features\n",
        "        x = arr[:, n:n + seq_length]\n",
        "        # The targets, shifted by one\n",
        "        y = np.zeros_like(x)\n",
        "        try:\n",
        "            y[:, :-1], y[:, -1] = x[:, 1:], arr[:, n+seq_length]\n",
        "        except IndexError:\n",
        "            y[:, :-1], y[:, -1] = x[:, 1:], arr[:, 0]\n",
        "        yield x, y"
      ],
      "execution_count": 0,
      "outputs": []
    },
    {
      "cell_type": "markdown",
      "metadata": {
        "id": "ZRnaWBU61pc-",
        "colab_type": "text"
      },
      "source": [
        "### Test Your Implementation\n",
        "\n",
        "Now I'll make some data sets and we can check out what's going on as we batch data. Here, as an example, I'm going to use a batch size of 8 and 50 sequence steps."
      ]
    },
    {
      "cell_type": "code",
      "metadata": {
        "id": "LD_uhmfy1pc_",
        "colab_type": "code",
        "colab": {}
      },
      "source": [
        "batches = get_batches(encoded, 8, 50)\n",
        "x, y = next(batches)"
      ],
      "execution_count": 0,
      "outputs": []
    },
    {
      "cell_type": "code",
      "metadata": {
        "id": "iUQgj9f11pdG",
        "colab_type": "code",
        "colab": {
          "base_uri": "https://localhost:8080/",
          "height": 336
        },
        "outputId": "24271afb-ab4d-4a62-ef88-abea79a1b6ae"
      },
      "source": [
        "# printing out the first 10 items in a sequence\n",
        "print('x\\n', x[:10, :10])\n",
        "print('\\ny\\n', y[:10, :10])"
      ],
      "execution_count": 72,
      "outputs": [
        {
          "output_type": "stream",
          "text": [
            "x\n",
            " [[72 19 45 73 68 27 34 18 59  3]\n",
            " [42 15 63 18 68 19 45 68 18 45]\n",
            " [27 63 47 18 15 34 18 45 18 77]\n",
            " [42 18 68 19 27 18 11 19  0 27]\n",
            " [18 42 45 57 18 19 27 34 18 68]\n",
            " [11 81 42 42  0 15 63 18 45 63]\n",
            " [18 20 63 63 45 18 19 45 47 18]\n",
            " [41 46 58 15 63 42 31 76 82 18]]\n",
            "\n",
            "y\n",
            " [[19 45 73 68 27 34 18 59  3  3]\n",
            " [15 63 18 68 19 45 68 18 45 68]\n",
            " [63 47 18 15 34 18 45 18 77 15]\n",
            " [18 68 19 27 18 11 19  0 27 77]\n",
            " [42 45 57 18 19 27 34 18 68 27]\n",
            " [81 42 42  0 15 63 18 45 63 47]\n",
            " [20 63 63 45 18 19 45 47 18 42]\n",
            " [46 58 15 63 42 31 76 82 18  9]]\n"
          ],
          "name": "stdout"
        }
      ]
    },
    {
      "cell_type": "markdown",
      "metadata": {
        "id": "X-IYoz9y1pdK",
        "colab_type": "text"
      },
      "source": [
        "If you implemented `get_batches` correctly, the above output should look something like \n",
        "```\n",
        "x\n",
        " [[25  8 60 11 45 27 28 73  1  2]\n",
        " [17  7 20 73 45  8 60 45 73 60]\n",
        " [27 20 80 73  7 28 73 60 73 65]\n",
        " [17 73 45  8 27 73 66  8 46 27]\n",
        " [73 17 60 12 73  8 27 28 73 45]\n",
        " [66 64 17 17 46  7 20 73 60 20]\n",
        " [73 76 20 20 60 73  8 60 80 73]\n",
        " [47 35 43  7 20 17 24 50 37 73]]\n",
        "\n",
        "y\n",
        " [[ 8 60 11 45 27 28 73  1  2  2]\n",
        " [ 7 20 73 45  8 60 45 73 60 45]\n",
        " [20 80 73  7 28 73 60 73 65  7]\n",
        " [73 45  8 27 73 66  8 46 27 65]\n",
        " [17 60 12 73  8 27 28 73 45 27]\n",
        " [64 17 17 46  7 20 73 60 20 80]\n",
        " [76 20 20 60 73  8 60 80 73 17]\n",
        " [35 43  7 20 17 24 50 37 73 36]]\n",
        " ```\n",
        " although the exact numbers may be different. Check to make sure the data is shifted over one step for `y`."
      ]
    },
    {
      "cell_type": "markdown",
      "metadata": {
        "id": "KrNFQzNw1pdL",
        "colab_type": "text"
      },
      "source": [
        "---\n",
        "## Defining the network with PyTorch\n",
        "\n",
        "Below is where you'll define the network.\n",
        "\n",
        "<img src=\"assets/charRNN.png\" width=500px>\n",
        "\n",
        "Next, you'll use PyTorch to define the architecture of the network. We start by defining the layers and operations we want. Then, define a method for the forward pass. You've also been given a method for predicting characters."
      ]
    },
    {
      "cell_type": "markdown",
      "metadata": {
        "id": "IIMEJUu51pdM",
        "colab_type": "text"
      },
      "source": [
        "### Model Structure\n",
        "\n",
        "In `__init__` the suggested structure is as follows:\n",
        "* Create and store the necessary dictionaries (this has been done for you)\n",
        "* Define an LSTM layer that takes as params: an input size (the number of characters), a hidden layer size `n_hidden`, a number of layers `n_layers`, a dropout probability `drop_prob`, and a batch_first boolean (True, since we are batching)\n",
        "* Define a dropout layer with `drop_prob`\n",
        "* Define a fully-connected layer with params: input size `n_hidden` and output size (the number of characters)\n",
        "* Finally, initialize the weights (again, this has been given)\n",
        "\n",
        "Note that some parameters have been named and given in the `__init__` function, and we use them and store them by doing something like `self.drop_prob = drop_prob`."
      ]
    },
    {
      "cell_type": "markdown",
      "metadata": {
        "id": "MJKW-moN1pdN",
        "colab_type": "text"
      },
      "source": [
        "---\n",
        "### LSTM Inputs/Outputs\n",
        "\n",
        "You can create a basic [LSTM layer](https://pytorch.org/docs/stable/nn.html#lstm) as follows\n",
        "\n",
        "```python\n",
        "self.lstm = nn.LSTM(input_size, n_hidden, n_layers, \n",
        "                            dropout=drop_prob, batch_first=True)\n",
        "```\n",
        "\n",
        "where `input_size` is the number of characters this cell expects to see as sequential input, and `n_hidden` is the number of units in the hidden layers in the cell. And we can add dropout by adding a dropout parameter with a specified probability; this will automatically add dropout to the inputs or outputs. Finally, in the `forward` function, we can stack up the LSTM cells into layers using `.view`. With this, you pass in a list of cells and it will send the output of one cell into the next cell.\n",
        "\n",
        "We also need to create an initial hidden state of all zeros. This is done like so\n",
        "\n",
        "```python\n",
        "self.init_hidden()\n",
        "```"
      ]
    },
    {
      "cell_type": "code",
      "metadata": {
        "id": "GQ3hOs6y1pdO",
        "colab_type": "code",
        "colab": {
          "base_uri": "https://localhost:8080/",
          "height": 34
        },
        "outputId": "ad0700b1-f771-4936-af9d-0569659600e9"
      },
      "source": [
        "# check if GPU is available\n",
        "train_on_gpu = torch.cuda.is_available()\n",
        "if(train_on_gpu):\n",
        "    print('Training on GPU!')\n",
        "else: \n",
        "    print('No GPU available, training on CPU; consider making n_epochs very small.')"
      ],
      "execution_count": 73,
      "outputs": [
        {
          "output_type": "stream",
          "text": [
            "Training on GPU!\n"
          ],
          "name": "stdout"
        }
      ]
    },
    {
      "cell_type": "code",
      "metadata": {
        "id": "AUDbbCou1pdS",
        "colab_type": "code",
        "colab": {}
      },
      "source": [
        "class CharRNN(nn.Module):\n",
        "    \n",
        "    def __init__(self, tokens, n_hidden=256, n_layers=2,\n",
        "                               drop_prob=0.5, lr=0.001):\n",
        "        super().__init__()\n",
        "        self.drop_prob = drop_prob\n",
        "        self.n_layers = n_layers\n",
        "        self.n_hidden = n_hidden\n",
        "        self.lr = lr\n",
        "        \n",
        "        # creating character dictionaries\n",
        "        self.chars = tokens\n",
        "        self.int2char = dict(enumerate(self.chars))\n",
        "        self.char2int = {ch: ii for ii, ch in self.int2char.items()}\n",
        "        \n",
        "        ## TODO: define the layers of the model\n",
        "        self.lstm = nn.LSTM(len(self.chars), n_hidden, n_layers, \n",
        "                            dropout=drop_prob, batch_first=True)\n",
        "        \n",
        "        self.dropout = nn.Dropout(drop_prob)\n",
        "        # final FC layer\n",
        "        self.fc = nn.Linear(n_hidden, len(self.chars))\n",
        "      \n",
        "    \n",
        "    def forward(self, x, hidden):\n",
        "        ''' Forward pass through the network. \n",
        "            These inputs are x, and the hidden/cell state `hidden`. '''\n",
        "                \n",
        "        ## TODO: Get the outputs and the new hidden state from the lstm\n",
        "        r_output, hidden = self.lstm(x, hidden)\n",
        "\n",
        "        out = self.dropout(r_output)\n",
        "        out = out.contiguous().view(-1, self.n_hidden)\n",
        "        # return the final output and the hidden state\n",
        "\n",
        "        out = self.fc(out)\n",
        "        return out, hidden\n",
        "    \n",
        "    \n",
        "    def init_hidden(self, batch_size):\n",
        "        ''' Initializes hidden state '''\n",
        "        # Create two new tensors with sizes n_layers x batch_size x n_hidden,\n",
        "        # initialized to zero, for hidden state and cell state of LSTM\n",
        "        weight = next(self.parameters()).data\n",
        "        \n",
        "        if (train_on_gpu):\n",
        "            hidden = (weight.new(self.n_layers, batch_size, self.n_hidden).zero_().cuda(),\n",
        "                  weight.new(self.n_layers, batch_size, self.n_hidden).zero_().cuda())\n",
        "        else:\n",
        "            hidden = (weight.new(self.n_layers, batch_size, self.n_hidden).zero_(),\n",
        "                      weight.new(self.n_layers, batch_size, self.n_hidden).zero_())\n",
        "        \n",
        "        return hidden\n",
        "        "
      ],
      "execution_count": 0,
      "outputs": []
    },
    {
      "cell_type": "markdown",
      "metadata": {
        "id": "YFnL19J91pdV",
        "colab_type": "text"
      },
      "source": [
        "## Time to train\n",
        "\n",
        "The train function gives us the ability to set the number of epochs, the learning rate, and other parameters.\n",
        "\n",
        "Below we're using an Adam optimizer and cross entropy loss since we are looking at character class scores as output. We calculate the loss and perform backpropagation, as usual!\n",
        "\n",
        "A couple of details about training: \n",
        ">* Within the batch loop, we detach the hidden state from its history; this time setting it equal to a new *tuple* variable because an LSTM has a hidden state that is a tuple of the hidden and cell states.\n",
        "* We use [`clip_grad_norm_`](https://pytorch.org/docs/stable/_modules/torch/nn/utils/clip_grad.html) to help prevent exploding gradients."
      ]
    },
    {
      "cell_type": "code",
      "metadata": {
        "id": "Bdj30lu01pdW",
        "colab_type": "code",
        "colab": {}
      },
      "source": [
        "def train(net, data, epochs=10, batch_size=10, seq_length=50, lr=0.001, clip=5, val_frac=0.1, print_every=10):\n",
        "    ''' Training a network \n",
        "    \n",
        "        Arguments\n",
        "        ---------\n",
        "        \n",
        "        net: CharRNN network\n",
        "        data: text data to train the network\n",
        "        epochs: Number of epochs to train\n",
        "        batch_size: Number of mini-sequences per mini-batch, aka batch size\n",
        "        seq_length: Number of character steps per mini-batch\n",
        "        lr: learning rate\n",
        "        clip: gradient clipping\n",
        "        val_frac: Fraction of data to hold out for validation\n",
        "        print_every: Number of steps for printing training and validation loss\n",
        "    \n",
        "    '''\n",
        "    net.train()\n",
        "    \n",
        "    opt = torch.optim.Adam(net.parameters(), lr=lr)\n",
        "    criterion = nn.CrossEntropyLoss()\n",
        "    \n",
        "    # create training and validation data\n",
        "    val_idx = int(len(data)*(1-val_frac))\n",
        "    data, val_data = data[:val_idx], data[val_idx:]\n",
        "    \n",
        "    if(train_on_gpu):\n",
        "        net.cuda()\n",
        "    \n",
        "    counter = 0\n",
        "    n_chars = len(net.chars)\n",
        "    for e in range(epochs):\n",
        "        # initialize hidden state\n",
        "        h = net.init_hidden(batch_size)\n",
        "        \n",
        "        for x, y in get_batches(data, batch_size, seq_length):\n",
        "            counter += 1\n",
        "            \n",
        "            # One-hot encode our data and make them Torch tensors\n",
        "            x = one_hot_encode(x, n_chars)\n",
        "            inputs, targets = torch.from_numpy(x), torch.from_numpy(y)\n",
        "            \n",
        "            if(train_on_gpu):\n",
        "                inputs, targets = inputs.cuda(), targets.cuda()\n",
        "\n",
        "            # Creating new variables for the hidden state, otherwise\n",
        "            # we'd backprop through the entire training history\n",
        "            h = tuple([each.data for each in h])\n",
        "\n",
        "            # zero accumulated gradients\n",
        "            net.zero_grad()\n",
        "            \n",
        "            # get the output from the model\n",
        "            output, h = net(inputs, h)\n",
        "            \n",
        "            # calculate the loss and perform backprop\n",
        "            loss = criterion(output, targets.view(batch_size*seq_length).long())\n",
        "            loss.backward()\n",
        "            # `clip_grad_norm` helps prevent the exploding gradient problem in RNNs / LSTMs.\n",
        "            nn.utils.clip_grad_norm_(net.parameters(), clip)\n",
        "            opt.step()\n",
        "            \n",
        "            # loss stats\n",
        "            if counter % print_every == 0:\n",
        "                # Get validation loss\n",
        "                val_h = net.init_hidden(batch_size)\n",
        "                val_losses = []\n",
        "                net.eval()\n",
        "                for x, y in get_batches(val_data, batch_size, seq_length):\n",
        "                    # One-hot encode our data and make them Torch tensors\n",
        "                    x = one_hot_encode(x, n_chars)\n",
        "                    x, y = torch.from_numpy(x), torch.from_numpy(y)\n",
        "                    \n",
        "                    # Creating new variables for the hidden state, otherwise\n",
        "                    # we'd backprop through the entire training history\n",
        "                    val_h = tuple([each.data for each in val_h])\n",
        "                    \n",
        "                    inputs, targets = x, y\n",
        "                    if(train_on_gpu):\n",
        "                        inputs, targets = inputs.cuda(), targets.cuda()\n",
        "\n",
        "                    output, val_h = net(inputs, val_h)\n",
        "                    val_loss = criterion(output, targets.view(batch_size*seq_length).long())\n",
        "                \n",
        "                    val_losses.append(val_loss.item())\n",
        "                \n",
        "                net.train() # reset to train mode after iterationg through validation data\n",
        "                \n",
        "                print(\"Epoch: {}/{}...\".format(e+1, epochs),\n",
        "                      \"Step: {}...\".format(counter),\n",
        "                      \"Loss: {:.4f}...\".format(loss.item()),\n",
        "                      \"Val Loss: {:.4f}\".format(np.mean(val_losses)))"
      ],
      "execution_count": 0,
      "outputs": []
    },
    {
      "cell_type": "markdown",
      "metadata": {
        "id": "dZZo4QM61pdZ",
        "colab_type": "text"
      },
      "source": [
        "## Instantiating the model\n",
        "\n",
        "Now we can actually train the network. First we'll create the network itself, with some given hyperparameters. Then, define the mini-batches sizes, and start training!"
      ]
    },
    {
      "cell_type": "code",
      "metadata": {
        "id": "iNvPNgOj1pda",
        "colab_type": "code",
        "colab": {
          "base_uri": "https://localhost:8080/",
          "height": 101
        },
        "outputId": "dc691ae3-f918-4f5d-c510-81f042272aa6"
      },
      "source": [
        "## TODO: set your model hyperparameters\n",
        "# define and print the net\n",
        "n_hidden= 512\n",
        "n_layers= 2\n",
        "\n",
        "net = CharRNN(chars, n_hidden, n_layers)\n",
        "print(net)"
      ],
      "execution_count": 76,
      "outputs": [
        {
          "output_type": "stream",
          "text": [
            "CharRNN(\n",
            "  (lstm): LSTM(83, 512, num_layers=2, batch_first=True, dropout=0.5)\n",
            "  (dropout): Dropout(p=0.5, inplace=False)\n",
            "  (fc): Linear(in_features=512, out_features=83, bias=True)\n",
            ")\n"
          ],
          "name": "stdout"
        }
      ]
    },
    {
      "cell_type": "markdown",
      "metadata": {
        "id": "Uydps1d81pde",
        "colab_type": "text"
      },
      "source": [
        "### Set your training hyperparameters!"
      ]
    },
    {
      "cell_type": "code",
      "metadata": {
        "scrolled": true,
        "id": "lauD3u621pde",
        "colab_type": "code",
        "colab": {
          "base_uri": "https://localhost:8080/",
          "height": 1000
        },
        "outputId": "0bbc3aa2-fa11-407a-e0e7-ae3506ed68b0"
      },
      "source": [
        "batch_size = 128\n",
        "seq_length = 100\n",
        "n_epochs =  20 # start small if you are just testing initial behavior\n",
        "\n",
        "# train the model\n",
        "train(net, encoded, epochs=n_epochs, batch_size=batch_size, seq_length=seq_length, lr=0.001, print_every=10)"
      ],
      "execution_count": 77,
      "outputs": [
        {
          "output_type": "stream",
          "text": [
            "Epoch: 1/20... Step: 10... Loss: 3.2543... Val Loss: 3.1706\n",
            "Epoch: 1/20... Step: 20... Loss: 3.1462... Val Loss: 3.1270\n",
            "Epoch: 1/20... Step: 30... Loss: 3.1439... Val Loss: 3.1204\n",
            "Epoch: 1/20... Step: 40... Loss: 3.1142... Val Loss: 3.1189\n",
            "Epoch: 1/20... Step: 50... Loss: 3.1464... Val Loss: 3.1181\n",
            "Epoch: 1/20... Step: 60... Loss: 3.1189... Val Loss: 3.1160\n",
            "Epoch: 1/20... Step: 70... Loss: 3.1100... Val Loss: 3.1151\n",
            "Epoch: 1/20... Step: 80... Loss: 3.1246... Val Loss: 3.1117\n",
            "Epoch: 1/20... Step: 90... Loss: 3.1185... Val Loss: 3.1043\n",
            "Epoch: 1/20... Step: 100... Loss: 3.0963... Val Loss: 3.0889\n",
            "Epoch: 1/20... Step: 110... Loss: 3.0720... Val Loss: 3.0512\n",
            "Epoch: 1/20... Step: 120... Loss: 2.9925... Val Loss: 2.9757\n",
            "Epoch: 1/20... Step: 130... Loss: 2.9353... Val Loss: 2.9071\n",
            "Epoch: 2/20... Step: 140... Loss: 2.8411... Val Loss: 2.7993\n",
            "Epoch: 2/20... Step: 150... Loss: 2.7445... Val Loss: 2.6894\n",
            "Epoch: 2/20... Step: 160... Loss: 2.7351... Val Loss: 2.6700\n",
            "Epoch: 2/20... Step: 170... Loss: 2.6383... Val Loss: 2.6126\n",
            "Epoch: 2/20... Step: 180... Loss: 2.5962... Val Loss: 2.5654\n",
            "Epoch: 2/20... Step: 190... Loss: 2.5517... Val Loss: 2.5290\n",
            "Epoch: 2/20... Step: 200... Loss: 2.5396... Val Loss: 2.4942\n",
            "Epoch: 2/20... Step: 210... Loss: 2.5096... Val Loss: 2.4689\n",
            "Epoch: 2/20... Step: 220... Loss: 2.4684... Val Loss: 2.4343\n",
            "Epoch: 2/20... Step: 230... Loss: 2.4492... Val Loss: 2.4086\n",
            "Epoch: 2/20... Step: 240... Loss: 2.4353... Val Loss: 2.3856\n",
            "Epoch: 2/20... Step: 250... Loss: 2.3816... Val Loss: 2.3648\n",
            "Epoch: 2/20... Step: 260... Loss: 2.3626... Val Loss: 2.3412\n",
            "Epoch: 2/20... Step: 270... Loss: 2.3481... Val Loss: 2.3225\n",
            "Epoch: 3/20... Step: 280... Loss: 2.3551... Val Loss: 2.2987\n",
            "Epoch: 3/20... Step: 290... Loss: 2.3225... Val Loss: 2.2829\n",
            "Epoch: 3/20... Step: 300... Loss: 2.3066... Val Loss: 2.2575\n",
            "Epoch: 3/20... Step: 310... Loss: 2.2768... Val Loss: 2.2340\n",
            "Epoch: 3/20... Step: 320... Loss: 2.2493... Val Loss: 2.2150\n",
            "Epoch: 3/20... Step: 330... Loss: 2.2202... Val Loss: 2.1965\n",
            "Epoch: 3/20... Step: 340... Loss: 2.2249... Val Loss: 2.1772\n",
            "Epoch: 3/20... Step: 350... Loss: 2.2145... Val Loss: 2.1644\n",
            "Epoch: 3/20... Step: 360... Loss: 2.1491... Val Loss: 2.1425\n",
            "Epoch: 3/20... Step: 370... Loss: 2.1776... Val Loss: 2.1260\n",
            "Epoch: 3/20... Step: 380... Loss: 2.1469... Val Loss: 2.1127\n",
            "Epoch: 3/20... Step: 390... Loss: 2.1254... Val Loss: 2.0994\n",
            "Epoch: 3/20... Step: 400... Loss: 2.0963... Val Loss: 2.0773\n",
            "Epoch: 3/20... Step: 410... Loss: 2.1057... Val Loss: 2.0671\n",
            "Epoch: 4/20... Step: 420... Loss: 2.0935... Val Loss: 2.0491\n",
            "Epoch: 4/20... Step: 430... Loss: 2.0676... Val Loss: 2.0347\n",
            "Epoch: 4/20... Step: 440... Loss: 2.0707... Val Loss: 2.0212\n",
            "Epoch: 4/20... Step: 450... Loss: 1.9993... Val Loss: 2.0049\n",
            "Epoch: 4/20... Step: 460... Loss: 2.0025... Val Loss: 1.9920\n",
            "Epoch: 4/20... Step: 470... Loss: 2.0054... Val Loss: 1.9779\n",
            "Epoch: 4/20... Step: 480... Loss: 1.9989... Val Loss: 1.9650\n",
            "Epoch: 4/20... Step: 490... Loss: 1.9938... Val Loss: 1.9503\n",
            "Epoch: 4/20... Step: 500... Loss: 1.9920... Val Loss: 1.9388\n",
            "Epoch: 4/20... Step: 510... Loss: 1.9629... Val Loss: 1.9226\n",
            "Epoch: 4/20... Step: 520... Loss: 1.9830... Val Loss: 1.9153\n",
            "Epoch: 4/20... Step: 530... Loss: 1.9409... Val Loss: 1.9026\n",
            "Epoch: 4/20... Step: 540... Loss: 1.8935... Val Loss: 1.8877\n",
            "Epoch: 4/20... Step: 550... Loss: 1.9331... Val Loss: 1.8765\n",
            "Epoch: 5/20... Step: 560... Loss: 1.9053... Val Loss: 1.8659\n",
            "Epoch: 5/20... Step: 570... Loss: 1.8915... Val Loss: 1.8541\n",
            "Epoch: 5/20... Step: 580... Loss: 1.8603... Val Loss: 1.8474\n",
            "Epoch: 5/20... Step: 590... Loss: 1.8664... Val Loss: 1.8333\n",
            "Epoch: 5/20... Step: 600... Loss: 1.8486... Val Loss: 1.8241\n",
            "Epoch: 5/20... Step: 610... Loss: 1.8301... Val Loss: 1.8195\n",
            "Epoch: 5/20... Step: 620... Loss: 1.8343... Val Loss: 1.8071\n",
            "Epoch: 5/20... Step: 630... Loss: 1.8559... Val Loss: 1.7967\n",
            "Epoch: 5/20... Step: 640... Loss: 1.8264... Val Loss: 1.7878\n",
            "Epoch: 5/20... Step: 650... Loss: 1.8065... Val Loss: 1.7764\n",
            "Epoch: 5/20... Step: 660... Loss: 1.7734... Val Loss: 1.7721\n",
            "Epoch: 5/20... Step: 670... Loss: 1.8076... Val Loss: 1.7648\n",
            "Epoch: 5/20... Step: 680... Loss: 1.7977... Val Loss: 1.7574\n",
            "Epoch: 5/20... Step: 690... Loss: 1.7714... Val Loss: 1.7444\n",
            "Epoch: 6/20... Step: 700... Loss: 1.7701... Val Loss: 1.7364\n",
            "Epoch: 6/20... Step: 710... Loss: 1.7586... Val Loss: 1.7320\n",
            "Epoch: 6/20... Step: 720... Loss: 1.7419... Val Loss: 1.7227\n",
            "Epoch: 6/20... Step: 730... Loss: 1.7587... Val Loss: 1.7160\n",
            "Epoch: 6/20... Step: 740... Loss: 1.7319... Val Loss: 1.7096\n",
            "Epoch: 6/20... Step: 750... Loss: 1.6971... Val Loss: 1.7013\n",
            "Epoch: 6/20... Step: 760... Loss: 1.7450... Val Loss: 1.6930\n",
            "Epoch: 6/20... Step: 770... Loss: 1.7147... Val Loss: 1.6871\n",
            "Epoch: 6/20... Step: 780... Loss: 1.6947... Val Loss: 1.6821\n",
            "Epoch: 6/20... Step: 790... Loss: 1.6920... Val Loss: 1.6749\n",
            "Epoch: 6/20... Step: 800... Loss: 1.6997... Val Loss: 1.6704\n",
            "Epoch: 6/20... Step: 810... Loss: 1.6930... Val Loss: 1.6665\n",
            "Epoch: 6/20... Step: 820... Loss: 1.6572... Val Loss: 1.6573\n",
            "Epoch: 6/20... Step: 830... Loss: 1.6979... Val Loss: 1.6545\n",
            "Epoch: 7/20... Step: 840... Loss: 1.6509... Val Loss: 1.6447\n",
            "Epoch: 7/20... Step: 850... Loss: 1.6671... Val Loss: 1.6413\n",
            "Epoch: 7/20... Step: 860... Loss: 1.6606... Val Loss: 1.6326\n",
            "Epoch: 7/20... Step: 870... Loss: 1.6661... Val Loss: 1.6301\n",
            "Epoch: 7/20... Step: 880... Loss: 1.6574... Val Loss: 1.6269\n",
            "Epoch: 7/20... Step: 890... Loss: 1.6461... Val Loss: 1.6171\n",
            "Epoch: 7/20... Step: 900... Loss: 1.6325... Val Loss: 1.6129\n",
            "Epoch: 7/20... Step: 910... Loss: 1.6128... Val Loss: 1.6087\n",
            "Epoch: 7/20... Step: 920... Loss: 1.6320... Val Loss: 1.6036\n",
            "Epoch: 7/20... Step: 930... Loss: 1.6088... Val Loss: 1.6014\n",
            "Epoch: 7/20... Step: 940... Loss: 1.6236... Val Loss: 1.5977\n",
            "Epoch: 7/20... Step: 950... Loss: 1.6209... Val Loss: 1.5912\n",
            "Epoch: 7/20... Step: 960... Loss: 1.6227... Val Loss: 1.5841\n",
            "Epoch: 7/20... Step: 970... Loss: 1.6221... Val Loss: 1.5830\n",
            "Epoch: 8/20... Step: 980... Loss: 1.5989... Val Loss: 1.5815\n",
            "Epoch: 8/20... Step: 990... Loss: 1.6057... Val Loss: 1.5764\n",
            "Epoch: 8/20... Step: 1000... Loss: 1.5893... Val Loss: 1.5693\n",
            "Epoch: 8/20... Step: 1010... Loss: 1.6237... Val Loss: 1.5659\n",
            "Epoch: 8/20... Step: 1020... Loss: 1.5971... Val Loss: 1.5647\n",
            "Epoch: 8/20... Step: 1030... Loss: 1.5786... Val Loss: 1.5612\n",
            "Epoch: 8/20... Step: 1040... Loss: 1.5869... Val Loss: 1.5542\n",
            "Epoch: 8/20... Step: 1050... Loss: 1.5682... Val Loss: 1.5510\n",
            "Epoch: 8/20... Step: 1060... Loss: 1.5718... Val Loss: 1.5468\n",
            "Epoch: 8/20... Step: 1070... Loss: 1.5808... Val Loss: 1.5440\n",
            "Epoch: 8/20... Step: 1080... Loss: 1.5731... Val Loss: 1.5417\n",
            "Epoch: 8/20... Step: 1090... Loss: 1.5445... Val Loss: 1.5369\n",
            "Epoch: 8/20... Step: 1100... Loss: 1.5464... Val Loss: 1.5320\n",
            "Epoch: 8/20... Step: 1110... Loss: 1.5481... Val Loss: 1.5302\n",
            "Epoch: 9/20... Step: 1120... Loss: 1.5612... Val Loss: 1.5265\n",
            "Epoch: 9/20... Step: 1130... Loss: 1.5473... Val Loss: 1.5287\n",
            "Epoch: 9/20... Step: 1140... Loss: 1.5525... Val Loss: 1.5176\n",
            "Epoch: 9/20... Step: 1150... Loss: 1.5619... Val Loss: 1.5195\n",
            "Epoch: 9/20... Step: 1160... Loss: 1.5186... Val Loss: 1.5164\n",
            "Epoch: 9/20... Step: 1170... Loss: 1.5204... Val Loss: 1.5108\n",
            "Epoch: 9/20... Step: 1180... Loss: 1.5242... Val Loss: 1.5095\n",
            "Epoch: 9/20... Step: 1190... Loss: 1.5539... Val Loss: 1.5056\n",
            "Epoch: 9/20... Step: 1200... Loss: 1.5047... Val Loss: 1.5012\n",
            "Epoch: 9/20... Step: 1210... Loss: 1.5144... Val Loss: 1.5003\n",
            "Epoch: 9/20... Step: 1220... Loss: 1.5101... Val Loss: 1.4952\n",
            "Epoch: 9/20... Step: 1230... Loss: 1.4982... Val Loss: 1.4932\n",
            "Epoch: 9/20... Step: 1240... Loss: 1.4913... Val Loss: 1.4900\n",
            "Epoch: 9/20... Step: 1250... Loss: 1.5011... Val Loss: 1.4876\n",
            "Epoch: 10/20... Step: 1260... Loss: 1.5146... Val Loss: 1.4860\n",
            "Epoch: 10/20... Step: 1270... Loss: 1.4950... Val Loss: 1.4835\n",
            "Epoch: 10/20... Step: 1280... Loss: 1.5164... Val Loss: 1.4778\n",
            "Epoch: 10/20... Step: 1290... Loss: 1.5058... Val Loss: 1.4796\n",
            "Epoch: 10/20... Step: 1300... Loss: 1.4818... Val Loss: 1.4755\n",
            "Epoch: 10/20... Step: 1310... Loss: 1.4988... Val Loss: 1.4751\n",
            "Epoch: 10/20... Step: 1320... Loss: 1.4594... Val Loss: 1.4705\n",
            "Epoch: 10/20... Step: 1330... Loss: 1.4667... Val Loss: 1.4695\n",
            "Epoch: 10/20... Step: 1340... Loss: 1.4581... Val Loss: 1.4658\n",
            "Epoch: 10/20... Step: 1350... Loss: 1.4516... Val Loss: 1.4640\n",
            "Epoch: 10/20... Step: 1360... Loss: 1.4561... Val Loss: 1.4654\n",
            "Epoch: 10/20... Step: 1370... Loss: 1.4451... Val Loss: 1.4615\n",
            "Epoch: 10/20... Step: 1380... Loss: 1.4767... Val Loss: 1.4549\n",
            "Epoch: 10/20... Step: 1390... Loss: 1.4978... Val Loss: 1.4560\n",
            "Epoch: 11/20... Step: 1400... Loss: 1.4915... Val Loss: 1.4539\n",
            "Epoch: 11/20... Step: 1410... Loss: 1.5026... Val Loss: 1.4510\n",
            "Epoch: 11/20... Step: 1420... Loss: 1.4874... Val Loss: 1.4445\n",
            "Epoch: 11/20... Step: 1430... Loss: 1.4563... Val Loss: 1.4451\n",
            "Epoch: 11/20... Step: 1440... Loss: 1.4871... Val Loss: 1.4427\n",
            "Epoch: 11/20... Step: 1450... Loss: 1.4096... Val Loss: 1.4407\n",
            "Epoch: 11/20... Step: 1460... Loss: 1.4290... Val Loss: 1.4410\n",
            "Epoch: 11/20... Step: 1470... Loss: 1.4271... Val Loss: 1.4382\n",
            "Epoch: 11/20... Step: 1480... Loss: 1.4505... Val Loss: 1.4351\n",
            "Epoch: 11/20... Step: 1490... Loss: 1.4351... Val Loss: 1.4308\n",
            "Epoch: 11/20... Step: 1500... Loss: 1.4198... Val Loss: 1.4324\n",
            "Epoch: 11/20... Step: 1510... Loss: 1.4062... Val Loss: 1.4294\n",
            "Epoch: 11/20... Step: 1520... Loss: 1.4420... Val Loss: 1.4263\n",
            "Epoch: 12/20... Step: 1530... Loss: 1.4866... Val Loss: 1.4263\n",
            "Epoch: 12/20... Step: 1540... Loss: 1.4399... Val Loss: 1.4240\n",
            "Epoch: 12/20... Step: 1550... Loss: 1.4510... Val Loss: 1.4225\n",
            "Epoch: 12/20... Step: 1560... Loss: 1.4616... Val Loss: 1.4167\n",
            "Epoch: 12/20... Step: 1570... Loss: 1.4074... Val Loss: 1.4183\n",
            "Epoch: 12/20... Step: 1580... Loss: 1.3835... Val Loss: 1.4198\n",
            "Epoch: 12/20... Step: 1590... Loss: 1.3736... Val Loss: 1.4167\n",
            "Epoch: 12/20... Step: 1600... Loss: 1.4203... Val Loss: 1.4149\n",
            "Epoch: 12/20... Step: 1610... Loss: 1.4043... Val Loss: 1.4136\n",
            "Epoch: 12/20... Step: 1620... Loss: 1.4003... Val Loss: 1.4105\n",
            "Epoch: 12/20... Step: 1630... Loss: 1.4301... Val Loss: 1.4104\n",
            "Epoch: 12/20... Step: 1640... Loss: 1.3978... Val Loss: 1.4096\n",
            "Epoch: 12/20... Step: 1650... Loss: 1.3711... Val Loss: 1.4069\n",
            "Epoch: 12/20... Step: 1660... Loss: 1.4305... Val Loss: 1.4068\n",
            "Epoch: 13/20... Step: 1670... Loss: 1.4000... Val Loss: 1.4112\n",
            "Epoch: 13/20... Step: 1680... Loss: 1.4119... Val Loss: 1.3995\n",
            "Epoch: 13/20... Step: 1690... Loss: 1.3829... Val Loss: 1.3998\n",
            "Epoch: 13/20... Step: 1700... Loss: 1.3938... Val Loss: 1.3956\n",
            "Epoch: 13/20... Step: 1710... Loss: 1.3606... Val Loss: 1.3969\n",
            "Epoch: 13/20... Step: 1720... Loss: 1.3844... Val Loss: 1.3985\n",
            "Epoch: 13/20... Step: 1730... Loss: 1.4126... Val Loss: 1.3919\n",
            "Epoch: 13/20... Step: 1740... Loss: 1.3749... Val Loss: 1.3953\n",
            "Epoch: 13/20... Step: 1750... Loss: 1.3533... Val Loss: 1.3971\n",
            "Epoch: 13/20... Step: 1760... Loss: 1.3706... Val Loss: 1.3913\n",
            "Epoch: 13/20... Step: 1770... Loss: 1.3934... Val Loss: 1.3885\n",
            "Epoch: 13/20... Step: 1780... Loss: 1.3647... Val Loss: 1.3879\n",
            "Epoch: 13/20... Step: 1790... Loss: 1.3572... Val Loss: 1.3878\n",
            "Epoch: 13/20... Step: 1800... Loss: 1.3825... Val Loss: 1.3864\n",
            "Epoch: 14/20... Step: 1810... Loss: 1.3894... Val Loss: 1.3960\n",
            "Epoch: 14/20... Step: 1820... Loss: 1.3717... Val Loss: 1.3828\n",
            "Epoch: 14/20... Step: 1830... Loss: 1.3784... Val Loss: 1.3820\n",
            "Epoch: 14/20... Step: 1840... Loss: 1.3286... Val Loss: 1.3777\n",
            "Epoch: 14/20... Step: 1850... Loss: 1.3177... Val Loss: 1.3787\n",
            "Epoch: 14/20... Step: 1860... Loss: 1.3746... Val Loss: 1.3798\n",
            "Epoch: 14/20... Step: 1870... Loss: 1.3795... Val Loss: 1.3727\n",
            "Epoch: 14/20... Step: 1880... Loss: 1.3676... Val Loss: 1.3757\n",
            "Epoch: 14/20... Step: 1890... Loss: 1.3843... Val Loss: 1.3765\n",
            "Epoch: 14/20... Step: 1900... Loss: 1.3594... Val Loss: 1.3710\n",
            "Epoch: 14/20... Step: 1910... Loss: 1.3711... Val Loss: 1.3720\n",
            "Epoch: 14/20... Step: 1920... Loss: 1.3574... Val Loss: 1.3696\n",
            "Epoch: 14/20... Step: 1930... Loss: 1.3183... Val Loss: 1.3728\n",
            "Epoch: 14/20... Step: 1940... Loss: 1.3860... Val Loss: 1.3682\n",
            "Epoch: 15/20... Step: 1950... Loss: 1.3565... Val Loss: 1.3823\n",
            "Epoch: 15/20... Step: 1960... Loss: 1.3625... Val Loss: 1.3650\n",
            "Epoch: 15/20... Step: 1970... Loss: 1.3535... Val Loss: 1.3645\n",
            "Epoch: 15/20... Step: 1980... Loss: 1.3402... Val Loss: 1.3643\n",
            "Epoch: 15/20... Step: 1990... Loss: 1.3408... Val Loss: 1.3637\n",
            "Epoch: 15/20... Step: 2000... Loss: 1.3241... Val Loss: 1.3614\n",
            "Epoch: 15/20... Step: 2010... Loss: 1.3389... Val Loss: 1.3605\n",
            "Epoch: 15/20... Step: 2020... Loss: 1.3528... Val Loss: 1.3644\n",
            "Epoch: 15/20... Step: 2030... Loss: 1.3343... Val Loss: 1.3649\n",
            "Epoch: 15/20... Step: 2040... Loss: 1.3372... Val Loss: 1.3581\n",
            "Epoch: 15/20... Step: 2050... Loss: 1.3233... Val Loss: 1.3584\n",
            "Epoch: 15/20... Step: 2060... Loss: 1.3441... Val Loss: 1.3565\n",
            "Epoch: 15/20... Step: 2070... Loss: 1.3452... Val Loss: 1.3578\n",
            "Epoch: 15/20... Step: 2080... Loss: 1.3384... Val Loss: 1.3568\n",
            "Epoch: 16/20... Step: 2090... Loss: 1.3407... Val Loss: 1.3625\n",
            "Epoch: 16/20... Step: 2100... Loss: 1.3258... Val Loss: 1.3552\n",
            "Epoch: 16/20... Step: 2110... Loss: 1.3159... Val Loss: 1.3543\n",
            "Epoch: 16/20... Step: 2120... Loss: 1.3276... Val Loss: 1.3508\n",
            "Epoch: 16/20... Step: 2130... Loss: 1.3056... Val Loss: 1.3516\n",
            "Epoch: 16/20... Step: 2140... Loss: 1.3024... Val Loss: 1.3493\n",
            "Epoch: 16/20... Step: 2150... Loss: 1.3369... Val Loss: 1.3458\n",
            "Epoch: 16/20... Step: 2160... Loss: 1.3170... Val Loss: 1.3492\n",
            "Epoch: 16/20... Step: 2170... Loss: 1.3160... Val Loss: 1.3469\n",
            "Epoch: 16/20... Step: 2180... Loss: 1.3074... Val Loss: 1.3462\n",
            "Epoch: 16/20... Step: 2190... Loss: 1.3313... Val Loss: 1.3435\n",
            "Epoch: 16/20... Step: 2200... Loss: 1.3029... Val Loss: 1.3416\n",
            "Epoch: 16/20... Step: 2210... Loss: 1.2746... Val Loss: 1.3408\n",
            "Epoch: 16/20... Step: 2220... Loss: 1.3244... Val Loss: 1.3397\n",
            "Epoch: 17/20... Step: 2230... Loss: 1.2931... Val Loss: 1.3438\n",
            "Epoch: 17/20... Step: 2240... Loss: 1.3125... Val Loss: 1.3390\n",
            "Epoch: 17/20... Step: 2250... Loss: 1.2829... Val Loss: 1.3390\n",
            "Epoch: 17/20... Step: 2260... Loss: 1.2994... Val Loss: 1.3383\n",
            "Epoch: 17/20... Step: 2270... Loss: 1.3089... Val Loss: 1.3337\n",
            "Epoch: 17/20... Step: 2280... Loss: 1.3159... Val Loss: 1.3332\n",
            "Epoch: 17/20... Step: 2290... Loss: 1.3040... Val Loss: 1.3368\n",
            "Epoch: 17/20... Step: 2300... Loss: 1.2702... Val Loss: 1.3333\n",
            "Epoch: 17/20... Step: 2310... Loss: 1.3018... Val Loss: 1.3334\n",
            "Epoch: 17/20... Step: 2320... Loss: 1.2973... Val Loss: 1.3300\n",
            "Epoch: 17/20... Step: 2330... Loss: 1.2869... Val Loss: 1.3261\n",
            "Epoch: 17/20... Step: 2340... Loss: 1.2979... Val Loss: 1.3220\n",
            "Epoch: 17/20... Step: 2350... Loss: 1.3072... Val Loss: 1.3280\n",
            "Epoch: 17/20... Step: 2360... Loss: 1.3006... Val Loss: 1.3260\n",
            "Epoch: 18/20... Step: 2370... Loss: 1.2742... Val Loss: 1.3313\n",
            "Epoch: 18/20... Step: 2380... Loss: 1.2798... Val Loss: 1.3202\n",
            "Epoch: 18/20... Step: 2390... Loss: 1.2865... Val Loss: 1.3252\n",
            "Epoch: 18/20... Step: 2400... Loss: 1.3030... Val Loss: 1.3197\n",
            "Epoch: 18/20... Step: 2410... Loss: 1.2975... Val Loss: 1.3156\n",
            "Epoch: 18/20... Step: 2420... Loss: 1.2765... Val Loss: 1.3131\n",
            "Epoch: 18/20... Step: 2430... Loss: 1.2915... Val Loss: 1.3125\n",
            "Epoch: 18/20... Step: 2440... Loss: 1.2717... Val Loss: 1.3155\n",
            "Epoch: 18/20... Step: 2450... Loss: 1.2711... Val Loss: 1.3162\n",
            "Epoch: 18/20... Step: 2460... Loss: 1.2915... Val Loss: 1.3152\n",
            "Epoch: 18/20... Step: 2470... Loss: 1.2747... Val Loss: 1.3092\n",
            "Epoch: 18/20... Step: 2480... Loss: 1.2714... Val Loss: 1.3090\n",
            "Epoch: 18/20... Step: 2490... Loss: 1.2579... Val Loss: 1.3065\n",
            "Epoch: 18/20... Step: 2500... Loss: 1.2652... Val Loss: 1.3159\n",
            "Epoch: 19/20... Step: 2510... Loss: 1.2762... Val Loss: 1.3119\n",
            "Epoch: 19/20... Step: 2520... Loss: 1.2788... Val Loss: 1.3107\n",
            "Epoch: 19/20... Step: 2530... Loss: 1.2820... Val Loss: 1.3058\n",
            "Epoch: 19/20... Step: 2540... Loss: 1.2883... Val Loss: 1.3020\n",
            "Epoch: 19/20... Step: 2550... Loss: 1.2525... Val Loss: 1.3024\n",
            "Epoch: 19/20... Step: 2560... Loss: 1.2598... Val Loss: 1.3014\n",
            "Epoch: 19/20... Step: 2570... Loss: 1.2539... Val Loss: 1.3028\n",
            "Epoch: 19/20... Step: 2580... Loss: 1.2980... Val Loss: 1.3025\n",
            "Epoch: 19/20... Step: 2590... Loss: 1.2513... Val Loss: 1.2977\n",
            "Epoch: 19/20... Step: 2600... Loss: 1.2503... Val Loss: 1.3033\n",
            "Epoch: 19/20... Step: 2610... Loss: 1.2543... Val Loss: 1.2990\n",
            "Epoch: 19/20... Step: 2620... Loss: 1.2397... Val Loss: 1.2988\n",
            "Epoch: 19/20... Step: 2630... Loss: 1.2433... Val Loss: 1.2998\n",
            "Epoch: 19/20... Step: 2640... Loss: 1.2696... Val Loss: 1.3058\n",
            "Epoch: 20/20... Step: 2650... Loss: 1.2737... Val Loss: 1.2955\n",
            "Epoch: 20/20... Step: 2660... Loss: 1.2694... Val Loss: 1.2937\n",
            "Epoch: 20/20... Step: 2670... Loss: 1.2617... Val Loss: 1.2988\n",
            "Epoch: 20/20... Step: 2680... Loss: 1.2611... Val Loss: 1.2958\n",
            "Epoch: 20/20... Step: 2690... Loss: 1.2506... Val Loss: 1.2957\n",
            "Epoch: 20/20... Step: 2700... Loss: 1.2570... Val Loss: 1.2914\n",
            "Epoch: 20/20... Step: 2710... Loss: 1.2248... Val Loss: 1.2961\n",
            "Epoch: 20/20... Step: 2720... Loss: 1.2342... Val Loss: 1.2972\n",
            "Epoch: 20/20... Step: 2730... Loss: 1.2279... Val Loss: 1.2937\n",
            "Epoch: 20/20... Step: 2740... Loss: 1.2190... Val Loss: 1.2953\n",
            "Epoch: 20/20... Step: 2750... Loss: 1.2311... Val Loss: 1.2945\n",
            "Epoch: 20/20... Step: 2760... Loss: 1.2262... Val Loss: 1.2914\n",
            "Epoch: 20/20... Step: 2770... Loss: 1.2640... Val Loss: 1.2918\n",
            "Epoch: 20/20... Step: 2780... Loss: 1.2922... Val Loss: 1.2951\n"
          ],
          "name": "stdout"
        }
      ]
    },
    {
      "cell_type": "markdown",
      "metadata": {
        "id": "BRXW6CV11pdj",
        "colab_type": "text"
      },
      "source": [
        "## Getting the best model\n",
        "\n",
        "To set your hyperparameters to get the best performance, you'll want to watch the training and validation losses. If your training loss is much lower than the validation loss, you're overfitting. Increase regularization (more dropout) or use a smaller network. If the training and validation losses are close, you're underfitting so you can increase the size of the network."
      ]
    },
    {
      "cell_type": "markdown",
      "metadata": {
        "id": "QBJYc1_I1pdk",
        "colab_type": "text"
      },
      "source": [
        "## Hyperparameters\n",
        "\n",
        "Here are the hyperparameters for the network.\n",
        "\n",
        "In defining the model:\n",
        "* `n_hidden` - The number of units in the hidden layers.\n",
        "* `n_layers` - Number of hidden LSTM layers to use.\n",
        "\n",
        "We assume that dropout probability and learning rate will be kept at the default, in this example.\n",
        "\n",
        "And in training:\n",
        "* `batch_size` - Number of sequences running through the network in one pass.\n",
        "* `seq_length` - Number of characters in the sequence the network is trained on. Larger is better typically, the network will learn more long range dependencies. But it takes longer to train. 100 is typically a good number here.\n",
        "* `lr` - Learning rate for training\n",
        "\n",
        "Here's some good advice from Andrej Karpathy on training the network. I'm going to copy it in here for your benefit, but also link to [where it originally came from](https://github.com/karpathy/char-rnn#tips-and-tricks).\n",
        "\n",
        "> ## Tips and Tricks\n",
        "\n",
        ">### Monitoring Validation Loss vs. Training Loss\n",
        ">If you're somewhat new to Machine Learning or Neural Networks it can take a bit of expertise to get good models. The most important quantity to keep track of is the difference between your training loss (printed during training) and the validation loss (printed once in a while when the RNN is run on the validation data (by default every 1000 iterations)). In particular:\n",
        "\n",
        "> - If your training loss is much lower than validation loss then this means the network might be **overfitting**. Solutions to this are to decrease your network size, or to increase dropout. For example you could try dropout of 0.5 and so on.\n",
        "> - If your training/validation loss are about equal then your model is **underfitting**. Increase the size of your model (either number of layers or the raw number of neurons per layer)\n",
        "\n",
        "> ### Approximate number of parameters\n",
        "\n",
        "> The two most important parameters that control the model are `n_hidden` and `n_layers`. I would advise that you always use `n_layers` of either 2/3. The `n_hidden` can be adjusted based on how much data you have. The two important quantities to keep track of here are:\n",
        "\n",
        "> - The number of parameters in your model. This is printed when you start training.\n",
        "> - The size of your dataset. 1MB file is approximately 1 million characters.\n",
        "\n",
        ">These two should be about the same order of magnitude. It's a little tricky to tell. Here are some examples:\n",
        "\n",
        "> - I have a 100MB dataset and I'm using the default parameter settings (which currently print 150K parameters). My data size is significantly larger (100 mil >> 0.15 mil), so I expect to heavily underfit. I am thinking I can comfortably afford to make `n_hidden` larger.\n",
        "> - I have a 10MB dataset and running a 10 million parameter model. I'm slightly nervous and I'm carefully monitoring my validation loss. If it's larger than my training loss then I may want to try to increase dropout a bit and see if that helps the validation loss.\n",
        "\n",
        "> ### Best models strategy\n",
        "\n",
        ">The winning strategy to obtaining very good models (if you have the compute time) is to always err on making the network larger (as large as you're willing to wait for it to compute) and then try different dropout values (between 0,1). Whatever model has the best validation performance (the loss, written in the checkpoint filename, low is good) is the one you should use in the end.\n",
        "\n",
        ">It is very common in deep learning to run many different models with many different hyperparameter settings, and in the end take whatever checkpoint gave the best validation performance.\n",
        "\n",
        ">By the way, the size of your training and validation splits are also parameters. Make sure you have a decent amount of data in your validation set or otherwise the validation performance will be noisy and not very informative."
      ]
    },
    {
      "cell_type": "markdown",
      "metadata": {
        "id": "_9HsCQn41pdl",
        "colab_type": "text"
      },
      "source": [
        "## Checkpoint\n",
        "\n",
        "After training, we'll save the model so we can load it again later if we need too. Here I'm saving the parameters needed to create the same architecture, the hidden layer hyperparameters and the text characters."
      ]
    },
    {
      "cell_type": "code",
      "metadata": {
        "id": "Cz4EPxvM1pdm",
        "colab_type": "code",
        "colab": {}
      },
      "source": [
        "# change the name, for saving multiple files\n",
        "model_name = 'rnn_x_epoch.net'\n",
        "\n",
        "checkpoint = {'n_hidden': net.n_hidden,\n",
        "              'n_layers': net.n_layers,\n",
        "              'state_dict': net.state_dict(),\n",
        "              'tokens': net.chars}\n",
        "\n",
        "with open(model_name, 'wb') as f:\n",
        "    torch.save(checkpoint, f)"
      ],
      "execution_count": 0,
      "outputs": []
    },
    {
      "cell_type": "markdown",
      "metadata": {
        "id": "4qDrFiS_1pdp",
        "colab_type": "text"
      },
      "source": [
        "---\n",
        "## Making Predictions\n",
        "\n",
        "Now that the model is trained, we'll want to sample from it and make predictions about next characters! To sample, we pass in a character and have the network predict the next character. Then we take that character, pass it back in, and get another predicted character. Just keep doing this and you'll generate a bunch of text!\n",
        "\n",
        "### A note on the `predict`  function\n",
        "\n",
        "The output of our RNN is from a fully-connected layer and it outputs a **distribution of next-character scores**.\n",
        "\n",
        "> To actually get the next character, we apply a softmax function, which gives us a *probability* distribution that we can then sample to predict the next character.\n",
        "\n",
        "### Top K sampling\n",
        "\n",
        "Our predictions come from a categorical probability distribution over all the possible characters. We can make the sample text and make it more reasonable to handle (with less variables) by only considering some $K$ most probable characters. This will prevent the network from giving us completely absurd characters while allowing it to introduce some noise and randomness into the sampled text. Read more about [topk, here](https://pytorch.org/docs/stable/torch.html#torch.topk).\n"
      ]
    },
    {
      "cell_type": "code",
      "metadata": {
        "id": "n-yl-Pnk1pdq",
        "colab_type": "code",
        "colab": {}
      },
      "source": [
        "def predict(net, char, h=None, top_k=None):\n",
        "        ''' Given a character, predict the next character.\n",
        "            Returns the predicted character and the hidden state.\n",
        "        '''\n",
        "        \n",
        "        # tensor inputs\n",
        "        x = np.array([[net.char2int[char]]])\n",
        "        x = one_hot_encode(x, len(net.chars))\n",
        "        inputs = torch.from_numpy(x)\n",
        "        \n",
        "        if(train_on_gpu):\n",
        "            inputs = inputs.cuda()\n",
        "        \n",
        "        # detach hidden state from history\n",
        "        h = tuple([each.data for each in h])\n",
        "        # get the output of the model\n",
        "        out, h = net(inputs, h)\n",
        "\n",
        "        # get the character probabilities\n",
        "        p = F.softmax(out, dim=1).data\n",
        "        if(train_on_gpu):\n",
        "            p = p.cpu() # move to cpu\n",
        "        \n",
        "        # get top characters\n",
        "        if top_k is None:\n",
        "            top_ch = np.arange(len(net.chars))\n",
        "        else:\n",
        "            p, top_ch = p.topk(top_k)\n",
        "            top_ch = top_ch.numpy().squeeze()\n",
        "        \n",
        "        # select the likely next character with some element of randomness\n",
        "        p = p.numpy().squeeze()\n",
        "        char = np.random.choice(top_ch, p=p/p.sum())\n",
        "        \n",
        "        # return the encoded value of the predicted char and the hidden state\n",
        "        return net.int2char[char], h"
      ],
      "execution_count": 0,
      "outputs": []
    },
    {
      "cell_type": "markdown",
      "metadata": {
        "id": "6nk_5tXL1pdt",
        "colab_type": "text"
      },
      "source": [
        "### Priming and generating text \n",
        "\n",
        "Typically you'll want to prime the network so you can build up a hidden state. Otherwise the network will start out generating characters at random. In general the first bunch of characters will be a little rough since it hasn't built up a long history of characters to predict from."
      ]
    },
    {
      "cell_type": "code",
      "metadata": {
        "id": "yT7cD3BK1pdu",
        "colab_type": "code",
        "colab": {}
      },
      "source": [
        "def sample(net, size, prime='The', top_k=None):\n",
        "        \n",
        "    if(train_on_gpu):\n",
        "        net.cuda()\n",
        "    else:\n",
        "        net.cpu()\n",
        "    \n",
        "    net.eval() # eval mode\n",
        "    \n",
        "    # First off, run through the prime characters\n",
        "    chars = [ch for ch in prime]\n",
        "    h = net.init_hidden(1)\n",
        "    for ch in prime:\n",
        "        char, h = predict(net, ch, h, top_k=top_k)\n",
        "\n",
        "    chars.append(char)\n",
        "    \n",
        "    # Now pass in the previous character and get a new one\n",
        "    for ii in range(size):\n",
        "        char, h = predict(net, chars[-1], h, top_k=top_k)\n",
        "        chars.append(char)\n",
        "\n",
        "    return ''.join(chars)"
      ],
      "execution_count": 0,
      "outputs": []
    },
    {
      "cell_type": "code",
      "metadata": {
        "id": "go2_A1Ct1pdx",
        "colab_type": "code",
        "colab": {
          "base_uri": "https://localhost:8080/",
          "height": 339
        },
        "outputId": "0c3c74cc-b254-4a6e-d88f-50424c6164a8"
      },
      "source": [
        "print(sample(net, 1000, prime='Anna', top_k=5))"
      ],
      "execution_count": 81,
      "outputs": [
        {
          "output_type": "stream",
          "text": [
            "Anna.\n",
            "\n",
            "As the pritce were straight to say abroad, and a courie on her side\n",
            "that the propers of the conversation that hard the more\n",
            "change it seemed this had a clever. \"Well, how change you told you,,\" said\n",
            "Anna, saw in as she had been any answer to Levin.\n",
            "\n",
            "\"The desire with your plough. It said she does not told him a little. I said\n",
            "with has a state of the prieft. How is you and has been to be so that it are something that\n",
            "it is a colfur of mattrainings,\n",
            "we mean to the string,\" she said; but he had been an heart and the\n",
            "candle way to this mare, too and happen in the pression about a little\n",
            "coming and to go to the room. She drove the point, and satidian from him with\n",
            "her himself, ask his fresh, to a little active had a crapler wite\n",
            "truthfrest of theme too seemed and stood to him; he was so and serious of the room, he said\n",
            "that any thing would be an agitation, and he was the same then, who had told her and\n",
            "he had to go out that the princess said, turning her face was she had\n",
            "an one another, a \n"
          ],
          "name": "stdout"
        }
      ]
    },
    {
      "cell_type": "markdown",
      "metadata": {
        "id": "rYFAXnS_1pd1",
        "colab_type": "text"
      },
      "source": [
        "## Loading a checkpoint"
      ]
    },
    {
      "cell_type": "code",
      "metadata": {
        "id": "naB73-jx1pd2",
        "colab_type": "code",
        "colab": {
          "base_uri": "https://localhost:8080/",
          "height": 34
        },
        "outputId": "0a864121-ad87-495b-d17b-6f2abac569ae"
      },
      "source": [
        "# Here we have loaded in a model that trained over 20 epochs `rnn_20_epoch.net`\n",
        "with open('rnn_x_epoch.net', 'rb') as f:\n",
        "    checkpoint = torch.load(f)\n",
        "    \n",
        "loaded = CharRNN(checkpoint['tokens'], n_hidden=checkpoint['n_hidden'], n_layers=checkpoint['n_layers'])\n",
        "loaded.load_state_dict(checkpoint['state_dict'])"
      ],
      "execution_count": 82,
      "outputs": [
        {
          "output_type": "execute_result",
          "data": {
            "text/plain": [
              "<All keys matched successfully>"
            ]
          },
          "metadata": {
            "tags": []
          },
          "execution_count": 82
        }
      ]
    },
    {
      "cell_type": "code",
      "metadata": {
        "id": "T5QdS2Pq1pd5",
        "colab_type": "code",
        "colab": {
          "base_uri": "https://localhost:8080/",
          "height": 642
        },
        "outputId": "3faa8aac-2803-413c-821f-6f951215b875"
      },
      "source": [
        "# Sample using a loaded model\n",
        "print(sample(loaded, 2000, top_k=5, prime=\"And Levin said\"))"
      ],
      "execution_count": 83,
      "outputs": [
        {
          "output_type": "stream",
          "text": [
            "And Levin said\n",
            "a continuan study of the string at the son would have been atsined on\n",
            "that terrice in the peasants when the sense that stood sides the\n",
            "commission. He was not the feeling that had been to be defined to him, when\n",
            "he had sat sometimes a conversation to the deciding of the princess. He has talked over\n",
            "her for since that had been and while the sight, and an his sears there was all\n",
            "a cours, and always can at all the same thoughts of the pathers, too,\n",
            "had to come to all the moment who was sitting in all the simple of it.\n",
            "\n",
            "\"Why don't it is!\" he said, as they had to be to be drawn fut his\n",
            "bad face, the simple of the minutes there was a contrarted the foonman\n",
            "to strange man again.\n",
            "\n",
            "\"Well, the seeing this wife are madianting the steps in her.... I have\n",
            "string again or. The minutes, we all see them to her mistaken that the friend in thrye\n",
            "most condition of a child and the ploughs of the compleas moments aball that\n",
            "immediately will think about the princess around.\n",
            "\n",
            "She was to talking able to hear it all his sincere with his standing in the\n",
            "conversation. As though were wording it to say she was fascinated in the more\n",
            "when he had not been treeting, being a filling at the sermant\n",
            "calres, the made an offers and her hand, as though to bowed them,\n",
            "show him into the such satisfaction that he went in all his study in the sound of\n",
            "the mather, and was to be talking of something still make a moment what\n",
            "talked and straight for him.\n",
            "\n",
            "\"Tell me the chanming of it,\" and he saw that the conversation had not sat down\n",
            "and turned of what waiting to say, the same table was alone to hims\n",
            "and her husband and without struck, and the standing of her signs that he heard\n",
            "all over all, as it was still might spokl of her she was straight in the\n",
            "position to the convinced and was in the same agreed, with a\n",
            "praised of the most caped in the continual person at his sister--and\n",
            "she sat for the sick mement there or subject, sare to him, and so there\n",
            "was there.\n",
            "\n",
            "\"You're not asking a committee and tritcing and sati\n"
          ],
          "name": "stdout"
        }
      ]
    },
    {
      "cell_type": "code",
      "metadata": {
        "id": "o-SJsVrK1pd9",
        "colab_type": "code",
        "colab": {}
      },
      "source": [
        ""
      ],
      "execution_count": 0,
      "outputs": []
    }
  ]
}